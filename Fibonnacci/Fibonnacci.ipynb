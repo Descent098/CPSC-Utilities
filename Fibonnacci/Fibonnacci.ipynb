{
 "cells": [
  {
   "cell_type": "markdown",
   "metadata": {},
   "source": [
    "# The functions below are the ways of creating a fibonacci function to return the nth term of fibonacci in the slow and more efficient ways"
   ]
  },
  {
   "cell_type": "code",
   "execution_count": 2,
   "metadata": {},
   "outputs": [
    {
     "name": "stdout",
     "output_type": "stream",
     "text": [
      "The 10th fibonnacci value is:55 and it took 0.00099945068359375 seconds to compute\n",
      "The 42th fibonnacci value is:267914296 and it took 104.2868583202362 seconds to compute\n"
     ]
    }
   ],
   "source": [
    "#low efficiency/practicality: Calculate the value and return it\n",
    "\n",
    "import time\n",
    "\n",
    "def fib(n):\n",
    "    \"\"\"Function to return the value of the nth term of fibonnacci \"\"\"\n",
    "\n",
    "    #Base Cases\n",
    "    if n == 0:\n",
    "        value = 0\n",
    "    if n ==1:\n",
    "        value = 1\n",
    "    if n == 2:\n",
    "        value =  1\n",
    "\n",
    "    #Start recursive call    \n",
    "    elif n > 2:            \n",
    "        value = (fib(n-1)+ fib(n-2))\n",
    "\n",
    "    #Return the value of the fibonnacci number of n\n",
    "    return value\n",
    "\n",
    "\n",
    "#calculate the tenth value of fibonacci\n",
    "n = 10\n",
    "\n",
    "#Time and run the function\n",
    "time_before = time.time()\n",
    "nval = fib(n)\n",
    "time_after = time.time()\n",
    "time_delta = (time_after - time_before)\n",
    "\n",
    "#Print the result\n",
    "print(\"The {}th fibonnacci value is:{} and it took {} seconds to compute\".format(n,nval,time_delta))\n",
    "\n",
    "#The biggest problem with writting the function this way is that as n gets larger\n",
    "#The time it takes to calculate the value increases\n",
    "\n",
    "\n",
    "#calculate the fourty second value of fibonacci\n",
    "n = 42\n",
    "\n",
    "#Time and run the function\n",
    "time_before = time.time()\n",
    "nval = fib(n)\n",
    "time_after = time.time()\n",
    "time_delta = (time_after - time_before)\n",
    "\n",
    "#Print the result\n",
    "print(\"The {}th fibonnacci value is:{} and it took {} seconds to compute\".format(n,nval,time_delta))"
   ]
  },
  {
   "cell_type": "code",
   "execution_count": 7,
   "metadata": {},
   "outputs": [
    {
     "name": "stdout",
     "output_type": "stream",
     "text": [
      "\n",
      "The 42th/nd fibonnacci value is:267914296 \n",
      "and it took 0.0 seconds to compute\n",
      "\n",
      "The 150th/nd fibonnacci value is:9969216677189303386214405760200 \n",
      "and it took 0.0 seconds to compute\n",
      "\n",
      "The 1500th/nd fibonnacci value is:13551125668563101951636936867148408377786010712418497242133543153221487310873528750612259354035717265300373778814347320257699257082356550045349914102924249595997483982228699287527241931811325095099642447621242200209254439920196960465321438498305345893378932585393381539093549479296194800838145996187122583354898000 \n",
      "and it took 0.0010006427764892578 seconds to compute\n"
     ]
    }
   ],
   "source": [
    "#Medium efficiency/practicality: Cache values to a dictionary to be pulled out later\n",
    "\n",
    "fibonnacci_cache = {}\n",
    "def fib(n):\n",
    "    \"\"\"Function to print the values of fibonnacci up to n\"\"\"\n",
    "\n",
    "    if n in fibonnacci_cache:\n",
    "        #If the value is already cached return it\n",
    "        return fibonnacci_cache[n]\n",
    "    else:\n",
    "        #Base Cases\n",
    "        if n == 0:\n",
    "            value = 0\n",
    "        if n ==1:\n",
    "            value = 1\n",
    "        if n == 2:\n",
    "            value = 1\n",
    "            \n",
    "        #Start recursive call    \n",
    "        elif n > 2:            \n",
    "            value = (fib(n-1)+ fib(n-2))\n",
    "        \n",
    "        #if the value hasn't been cached yet this is where it gets cached to the dictionary\n",
    "        fibonnacci_cache[n] = value\n",
    "        \n",
    "        #Return the value of the fibonnacci number of n\n",
    "        return value\n",
    "\n",
    "#calculate the 42nd value of fibonacci    \n",
    "n = 42\n",
    "\n",
    "#Time and run the function\n",
    "time_before = time.time()\n",
    "nval = fib(n)\n",
    "time_after = time.time()\n",
    "time_delta = (time_after - time_before)\n",
    "\n",
    "#Print the result\n",
    "print(\"\\nThe {}th/nd fibonnacci value is:{} \\nand it took {} seconds to compute\".format(n,nval,time_delta))    \n",
    "    \n",
    "#calculate the 150th value of fibonacci    \n",
    "n = 150\n",
    "\n",
    "#Time and run the function\n",
    "time_before = time.time()\n",
    "nval = fib(n)\n",
    "time_after = time.time()\n",
    "time_delta = (time_after - time_before)\n",
    "\n",
    "#Print the result\n",
    "print(\"\\nThe {}th/nd fibonnacci value is:{} \\nand it took {} seconds to compute\".format(n,nval,time_delta))\n",
    "\n",
    "#calculate the 1500th value of fibonacci    \n",
    "n = 1500\n",
    "\n",
    "#Time and run the function\n",
    "time_before = time.time()\n",
    "nval = fib(n)\n",
    "time_after = time.time()\n",
    "time_delta = (time_after - time_before)\n",
    "\n",
    "#Print the result\n",
    "print(\"\\nThe {}th/nd fibonnacci value is:{} \\nand it took {} seconds to compute\".format(n,nval,time_delta))"
   ]
  }
 ],
 "metadata": {
  "kernelspec": {
   "display_name": "Python 3",
   "language": "python",
   "name": "python3"
  },
  "language_info": {
   "codemirror_mode": {
    "name": "ipython",
    "version": 3
   },
   "file_extension": ".py",
   "mimetype": "text/x-python",
   "name": "python",
   "nbconvert_exporter": "python",
   "pygments_lexer": "ipython3",
   "version": "3.6.5"
  }
 },
 "nbformat": 4,
 "nbformat_minor": 2
}
